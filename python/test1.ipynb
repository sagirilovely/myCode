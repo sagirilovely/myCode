{
 "cells": [
  {
   "cell_type": "code",
   "execution_count": 4,
   "outputs": [
    {
     "name": "stdout",
     "output_type": "stream",
     "text": [
      "数学列的数据类型： int32\n",
      "行标签为A005~A008的数据：\n",
      "       语文  数学  英语\n",
      "A005  69  76  67\n",
      "A006  55  39  50\n",
      "A007  99  77  94\n",
      "A008  79  59  49\n",
      "所有的语文和英语成绩：\n",
      "       语文   英语\n",
      "A001  74   94\n",
      "A002  97   39\n",
      "A003  51  100\n",
      "A004  42   95\n",
      "A005  69   67\n",
      "A006  55   50\n",
      "A007  99   94\n",
      "A008  79   49\n",
      "A009  49   69\n",
      "A010  62   39\n",
      "行标签为A006~A008的语文、英语成绩：\n",
      "       语文  英语\n",
      "A006  55  50\n",
      "A007  99  94\n",
      "A008  79  49\n",
      "A005的数学成绩： 76\n",
      "三门课成绩均不及格的记录：\n",
      "       语文  数学  英语\n",
      "A006  55  39  50\n",
      "语文优秀（>=90）的记录：\n",
      "       语文  数学  英语\n",
      "A002  97  97  39\n",
      "A007  99  77  94\n",
      "英语分数正好为10的倍数的记录：\n",
      "       语文  数学   英语\n",
      "A003  51  66  100\n",
      "A006  55  39   50\n",
      "数据框一共有多少个数据项： 30\n",
      "增加总分和平均分后的数据框：\n",
      "       语文  数学   英语   总分\n",
      "A001  74  77   94  245\n",
      "A002  97  97   39  233\n",
      "A003  51  66  100  217\n",
      "A004  42  88   95  225\n",
      "A006  55  39   50  144\n",
      "A007  99  77   94  270\n",
      "A008  79  59   49  187\n",
      "A009  49  44   69  162\n"
     ]
    }
   ],
   "source": [
    "import pandas as pd\n",
    "import numpy as np\n",
    "\n",
    "# 设置随机数种子\n",
    "np.random.seed(0)\n",
    "\n",
    "# （10）创建数据框\n",
    "index = map(lambda x: 'A' + f'{x:03}', range(1, 11))\n",
    "df = pd.DataFrame(np.random.randint(30, 101, size=(10, 3)), index=list(index), columns=['语文', '数学', '英语'])\n",
    "\n",
    "# （11）查看“数学”列的数据类型\n",
    "math_dtype = df['数学'].dtype\n",
    "\n",
    "# （12）使用loc方法查看行标签为A005~A008之间的数据\n",
    "rows_A005_A008 = df.loc['A005':'A008']\n",
    "\n",
    "# （13）不使用loc或iloc查看所有的语文和英语成绩\n",
    "chinese_english_scores = df[['语文', '英语']]\n",
    "\n",
    "# （14）使用iloc方法查看行标签为A006~A008之间的语文、英语成绩\n",
    "scores_A006_A008 = df.iloc[5:8, [0, 2]]\n",
    "\n",
    "# （15）查看A005的数学成绩\n",
    "math_score_A005 = df.at['A005', '数学']\n",
    "\n",
    "# （16）使用query方法查找三门课成绩均不及格的记录\n",
    "failing_records = df.query('语文 < 60 and 数学 < 60 and 英语 < 60')\n",
    "\n",
    "# （17）不使用query方法查找语文优秀（>=90）的记录\n",
    "excellent_chinese = df[df['语文'] >= 90]\n",
    "\n",
    "# （18）使用isin方法查找英语分数正好为10的倍数的记录\n",
    "english_multiples_of_10 = df[df['英语'].isin(range(30, 101, 10))]\n",
    "\n",
    "# （19）查看数据框一共有多少个数据项\n",
    "total_items = df.size\n",
    "\n",
    "# （20）增加两列：总分和平均分\n",
    "df['总分'] = df.sum(axis=1)\n",
    "df['平均分'] = df.mean(axis=1)\n",
    "\n",
    "# （21）删除平均分这一列\n",
    "df.drop(columns=['平均分'], inplace=True)\n",
    "\n",
    "# （22）删除行标签为A005和A010的行\n",
    "df.drop(index=['A005', 'A010'], inplace=True)\n",
    "\n",
    "# 打印结果\n",
    "print(\"数学列的数据类型：\", math_dtype)\n",
    "print(\"行标签为A005~A008的数据：\\n\", rows_A005_A008)\n",
    "print(\"所有的语文和英语成绩：\\n\", chinese_english_scores)\n",
    "print(\"行标签为A006~A008的语文、英语成绩：\\n\", scores_A006_A008)\n",
    "print(\"A005的数学成绩：\", math_score_A005)\n",
    "print(\"三门课成绩均不及格的记录：\\n\", failing_records)\n",
    "print(\"语文优秀（>=90）的记录：\\n\", excellent_chinese)\n",
    "print(\"英语分数正好为10的倍数的记录：\\n\", english_multiples_of_10)\n",
    "print(\"数据框一共有多少个数据项：\", total_items)\n",
    "print(\"增加总分和平均分后的数据框：\\n\", df)\n"
   ],
   "metadata": {
    "collapsed": false,
    "ExecuteTime": {
     "start_time": "2024-05-21T11:21:45.139406Z",
     "end_time": "2024-05-21T11:21:46.721559Z"
    }
   }
  },
  {
   "cell_type": "code",
   "execution_count": 31,
   "outputs": [],
   "source": [],
   "metadata": {
    "collapsed": false,
    "ExecuteTime": {
     "start_time": "2024-04-20T15:11:41.473363Z",
     "end_time": "2024-04-20T15:11:41.485369Z"
    }
   }
  },
  {
   "cell_type": "code",
   "execution_count": null,
   "outputs": [],
   "source": [],
   "metadata": {
    "collapsed": false
   }
  }
 ],
 "metadata": {
  "kernelspec": {
   "display_name": "Python 3",
   "language": "python",
   "name": "python3"
  },
  "language_info": {
   "codemirror_mode": {
    "name": "ipython",
    "version": 2
   },
   "file_extension": ".py",
   "mimetype": "text/x-python",
   "name": "python",
   "nbconvert_exporter": "python",
   "pygments_lexer": "ipython2",
   "version": "2.7.6"
  }
 },
 "nbformat": 4,
 "nbformat_minor": 0
}
